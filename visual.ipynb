{
 "cells": [
  {
   "cell_type": "code",
   "execution_count": null,
   "metadata": {},
   "outputs": [],
   "source": [
    "import json\n",
    "from datetime import datetime\n",
    "\n",
    "import pandas as pd\n",
    "\n",
    "import ipywidgets as widgets\n",
    "from IPython.display import display"
   ]
  },
  {
   "cell_type": "code",
   "execution_count": null,
   "metadata": {},
   "outputs": [],
   "source": [
    "file = open(\"data.json\", \"r+\")\n",
    "channels = json.load(file)"
   ]
  },
  {
   "cell_type": "code",
   "execution_count": null,
   "metadata": {},
   "outputs": [],
   "source": [
    "# Generates an array of tuples, with each tuple taking format (CHANNEL_NAME, CHANNEL_OBJECT)\n",
    "dropdownArr = [(i[\"name\"], i) for i in channels]\n",
    "\n",
    "# Create dropdown channel selector\n",
    "chanDropdown = widgets.Dropdown(\n",
    "    options=dropdownArr,\n",
    "    value=dropdownArr[0][1],\n",
    "    description='Channel:',\n",
    "    disabled=False,\n",
    ")\n",
    "display(chanDropdown)"
   ]
  },
  {
   "cell_type": "code",
   "execution_count": null,
   "metadata": {},
   "outputs": [],
   "source": [
    "chanChoice = chanDropdown.value\n",
    "videos = pd.json_normalize(chanChoice['videos'])\n",
    "\n",
    "# Times & Datetimes are stored in file as ISO 8601 format strings, so convert to python datetimes\n",
    "videos.loc[:,'uploadDateTime'] = [datetime.fromisoformat(i) for i in videos['uploadDateTime']]\n",
    "\n",
    "# videos.loc[:,'duration'] = [datetime.fromisoformat(i).time() for i in videos['duration']]\n",
    "\n",
    "videos"
   ]
  },
  {
   "cell_type": "code",
   "execution_count": null,
   "metadata": {},
   "outputs": [],
   "source": [
    "# Extract columns to be plotted: duration, views, likes, commentCount with uploadDateTime as an index\n",
    "vars = videos.loc[:,'uploadDateTime':'commentCount']\n",
    "vars.set_index('uploadDateTime', inplace=True)\n",
    "vars"
   ]
  },
  {
   "cell_type": "code",
   "execution_count": null,
   "metadata": {},
   "outputs": [],
   "source": [
    "# Selector for chart type to use\n",
    "chartSelect = widgets.Select(\n",
    "    options=[('Line', 'line'), ('Bar', 'bar')],\n",
    "    value='line',\n",
    "    description='Chart:',\n",
    "    disabled=False,\n",
    ")\n",
    "display(chartSelect)\n"
   ]
  },
  {
   "cell_type": "code",
   "execution_count": null,
   "metadata": {},
   "outputs": [],
   "source": [
    "plot = vars.plot(kind=chartSelect.value, title=f\"{chanChoice['name']}'s videos:\", subplots=True)"
   ]
  }
 ],
 "metadata": {
  "kernelspec": {
   "display_name": "Python 3",
   "language": "python",
   "name": "python3"
  },
  "language_info": {
   "codemirror_mode": {
    "name": "ipython",
    "version": 3
   },
   "file_extension": ".py",
   "mimetype": "text/x-python",
   "name": "python",
   "nbconvert_exporter": "python",
   "pygments_lexer": "ipython3",
   "version": "3.11.2"
  },
  "orig_nbformat": 4
 },
 "nbformat": 4,
 "nbformat_minor": 2
}
