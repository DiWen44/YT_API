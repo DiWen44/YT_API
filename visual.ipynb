{
 "cells": [
  {
   "cell_type": "code",
   "execution_count": 61,
   "metadata": {},
   "outputs": [],
   "source": [
    "import json\n",
    "from datetime import datetime\n",
    "\n",
    "import pandas as pd\n",
    "import matplotlib.pyplot as plt\n",
    "\n",
    "import ipywidgets as widgets\n",
    "from IPython.display import display"
   ]
  },
  {
   "cell_type": "code",
   "execution_count": 62,
   "metadata": {},
   "outputs": [],
   "source": [
    "file = open(\"data_test.json\", \"r+\")\n",
    "channels = json.load(file)"
   ]
  },
  {
   "cell_type": "code",
   "execution_count": 63,
   "metadata": {},
   "outputs": [
    {
     "data": {
      "application/vnd.jupyter.widget-view+json": {
       "model_id": "4d293868d85f455fb8e189ce5f22baae",
       "version_major": 2,
       "version_minor": 0
      },
      "text/plain": [
       "Dropdown(description='Channel:', options=(('SimonFriberg', {'name': 'SimonFriberg', 'id': 'UCV3E_JLlGk45jX8kjz…"
      ]
     },
     "metadata": {},
     "output_type": "display_data"
    }
   ],
   "source": [
    "# Generates an array of tuples, with each tuple taking format (CHANNEL_NAME, CHANNEL_OBJECT)\n",
    "dropdownArr = [(i[\"name\"], i) for i in channels]\n",
    "\n",
    "# Create dropdown channel selector\n",
    "chanDropdown = widgets.Dropdown(\n",
    "    options=dropdownArr,\n",
    "    value=dropdownArr[0][1],\n",
    "    description='Channel:',\n",
    "    disabled=False,\n",
    ")\n",
    "display(chanDropdown)"
   ]
  },
  {
   "cell_type": "code",
   "execution_count": 64,
   "metadata": {},
   "outputs": [
    {
     "data": {
      "text/html": [
       "<div>\n",
       "<style scoped>\n",
       "    .dataframe tbody tr th:only-of-type {\n",
       "        vertical-align: middle;\n",
       "    }\n",
       "\n",
       "    .dataframe tbody tr th {\n",
       "        vertical-align: top;\n",
       "    }\n",
       "\n",
       "    .dataframe thead th {\n",
       "        text-align: right;\n",
       "    }\n",
       "</style>\n",
       "<table border=\"1\" class=\"dataframe\">\n",
       "  <thead>\n",
       "    <tr style=\"text-align: right;\">\n",
       "      <th></th>\n",
       "      <th>name</th>\n",
       "      <th>id</th>\n",
       "      <th>uploadDateTime</th>\n",
       "      <th>duration</th>\n",
       "      <th>views</th>\n",
       "      <th>likes</th>\n",
       "      <th>commentCount</th>\n",
       "    </tr>\n",
       "  </thead>\n",
       "  <tbody>\n",
       "    <tr>\n",
       "      <th>0</th>\n",
       "      <td>Tihih</td>\n",
       "      <td>eDA801sQGxo</td>\n",
       "      <td>2011-03-29T10:18:25Z</td>\n",
       "      <td>PT7S</td>\n",
       "      <td>544</td>\n",
       "      <td>0</td>\n",
       "      <td>0</td>\n",
       "    </tr>\n",
       "    <tr>\n",
       "      <th>1</th>\n",
       "      <td>Canon EOS 500d Recording Test - 1280x720</td>\n",
       "      <td>HPyy6338H0Y</td>\n",
       "      <td>2011-03-15T18:50:37Z</td>\n",
       "      <td>PT13S</td>\n",
       "      <td>424</td>\n",
       "      <td>2</td>\n",
       "      <td>0</td>\n",
       "    </tr>\n",
       "    <tr>\n",
       "      <th>2</th>\n",
       "      <td>The Big Bang Theory S04E18 - All Magical Cards...</td>\n",
       "      <td>E2MsNoar600</td>\n",
       "      <td>2011-03-12T01:46:24Z</td>\n",
       "      <td>PT10M13S</td>\n",
       "      <td>4094867</td>\n",
       "      <td>24750</td>\n",
       "      <td>1055</td>\n",
       "    </tr>\n",
       "    <tr>\n",
       "      <th>3</th>\n",
       "      <td>Foo Fighters - Rope (Live at Skavlan)</td>\n",
       "      <td>wD59iyOdbS4</td>\n",
       "      <td>2011-03-05T05:20:05Z</td>\n",
       "      <td>PT4M42S</td>\n",
       "      <td>3142</td>\n",
       "      <td>20</td>\n",
       "      <td>0</td>\n",
       "    </tr>\n",
       "    <tr>\n",
       "      <th>4</th>\n",
       "      <td>Dave Grohl at Skavlan, Sweden (Including Foo F...</td>\n",
       "      <td>FPaPSOSeoOU</td>\n",
       "      <td>2011-03-05T04:50:39Z</td>\n",
       "      <td>PT15M21S</td>\n",
       "      <td>169107</td>\n",
       "      <td>697</td>\n",
       "      <td>145</td>\n",
       "    </tr>\n",
       "  </tbody>\n",
       "</table>\n",
       "</div>"
      ],
      "text/plain": [
       "                                                name           id  \\\n",
       "0                                              Tihih  eDA801sQGxo   \n",
       "1           Canon EOS 500d Recording Test - 1280x720  HPyy6338H0Y   \n",
       "2  The Big Bang Theory S04E18 - All Magical Cards...  E2MsNoar600   \n",
       "3              Foo Fighters - Rope (Live at Skavlan)  wD59iyOdbS4   \n",
       "4  Dave Grohl at Skavlan, Sweden (Including Foo F...  FPaPSOSeoOU   \n",
       "\n",
       "         uploadDateTime  duration    views  likes  commentCount  \n",
       "0  2011-03-29T10:18:25Z      PT7S      544      0             0  \n",
       "1  2011-03-15T18:50:37Z     PT13S      424      2             0  \n",
       "2  2011-03-12T01:46:24Z  PT10M13S  4094867  24750          1055  \n",
       "3  2011-03-05T05:20:05Z   PT4M42S     3142     20             0  \n",
       "4  2011-03-05T04:50:39Z  PT15M21S   169107    697           145  "
      ]
     },
     "execution_count": 64,
     "metadata": {},
     "output_type": "execute_result"
    }
   ],
   "source": [
    "chanChoice = chanDropdown.value\n",
    "videos = pd.json_normalize(chanChoice['videos'])\n",
    "videos"
   ]
  },
  {
   "cell_type": "code",
   "execution_count": 65,
   "metadata": {},
   "outputs": [
    {
     "data": {
      "application/vnd.jupyter.widget-view+json": {
       "model_id": "6630b745ab63405a9337390a5f359966",
       "version_major": 2,
       "version_minor": 0
      },
      "text/plain": [
       "Dropdown(description='Variable:', options=(('Views', 'views'), ('Likes', 'likes'), ('Comments', 'commentCount'…"
      ]
     },
     "metadata": {},
     "output_type": "display_data"
    }
   ],
   "source": [
    "# Selector for variable to plot against\n",
    "varDropdown = widgets.Dropdown(\n",
    "    options=[('Views', 'views'), ('Likes', 'likes'), ('Comments', 'commentCount'), ('Duration', 'duration')],\n",
    "    value='views',\n",
    "    description='Variable:',\n",
    "    disabled=False,\n",
    ")\n",
    "display(varDropdown)"
   ]
  },
  {
   "cell_type": "code",
   "execution_count": 68,
   "metadata": {},
   "outputs": [
    {
     "data": {
      "text/plain": [
       "[544, 424, 4094867, 3142, 169107]"
      ]
     },
     "execution_count": 68,
     "metadata": {},
     "output_type": "execute_result"
    }
   ],
   "source": [
    "# Extract column of videos dataframe associated with selected variable\n",
    "varChoice = varDropdown.value\n",
    "column = videos.loc[:,varChoice].tolist()\n",
    "\n"
   ]
  }
 ],
 "metadata": {
  "kernelspec": {
   "display_name": "Python 3",
   "language": "python",
   "name": "python3"
  },
  "language_info": {
   "codemirror_mode": {
    "name": "ipython",
    "version": 3
   },
   "file_extension": ".py",
   "mimetype": "text/x-python",
   "name": "python",
   "nbconvert_exporter": "python",
   "pygments_lexer": "ipython3",
   "version": "3.11.2"
  },
  "orig_nbformat": 4
 },
 "nbformat": 4,
 "nbformat_minor": 2
}
